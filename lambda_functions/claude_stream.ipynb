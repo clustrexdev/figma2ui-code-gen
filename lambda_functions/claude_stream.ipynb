{
 "cells": [
  {
   "cell_type": "code",
   "execution_count": 12,
   "id": "5b8741ef",
   "metadata": {},
   "outputs": [],
   "source": [
    "import boto3\n",
    "import json"
   ]
  },
  {
   "cell_type": "code",
   "execution_count": 17,
   "id": "4090371b",
   "metadata": {},
   "outputs": [],
   "source": [
    "class ClaudeChatBot:\n",
    "    def __init__(self, region_name='us-east-1', model_id='us.anthropic.claude-3-7-sonnet-20250219-v1:0'):\n",
    "        self.client = boto3.client(\"bedrock-runtime\", region_name=region_name)\n",
    "        self.model_id = model_id\n",
    "\n",
    "    def ask(self, question: str, system_prompt: str = \"You are a helpful assistant.\") -> str:\n",
    "        payload = {\n",
    "            \"anthropic_version\": \"bedrock-2023-05-31\",\n",
    "            \"system\": system_prompt,\n",
    "            \"messages\": [\n",
    "                {\"role\": \"user\", \"content\": question}\n",
    "            ],\n",
    "            \"max_tokens\": 1000,\n",
    "            \"temperature\": 0.7\n",
    "        }\n",
    "\n",
    "        response = self.client.invoke_model(\n",
    "            modelId=self.model_id,\n",
    "            contentType=\"application/json\",\n",
    "            accept=\"application/json\",\n",
    "            body=json.dumps(payload),\n",
    "        )\n",
    "\n",
    "        response_body = json.loads(response[\"body\"].read())\n",
    "\n",
    "        # Claude responds with a single message\n",
    "        return response_body[\"content\"][0][\"text\"]"
   ]
  },
  {
   "cell_type": "code",
   "execution_count": 18,
   "id": "10a95594",
   "metadata": {},
   "outputs": [
    {
     "name": "stdout",
     "output_type": "stream",
     "text": [
      "Claude: A peninsula is a geographical feature consisting of a piece of land that is almost entirely surrounded by water but remains connected to the mainland by a narrow strip of land called an isthmus. Peninsulas extend out into a body of water such as an ocean, sea, lake, or river.\n",
      "\n",
      "Some famous examples of peninsulas around the world include:\n",
      "\n",
      "1. The Florida Peninsula (United States)\n",
      "2. The Arabian Peninsula (Middle East)\n",
      "3. The Iberian Peninsula (Spain and Portugal)\n",
      "4. The Korean Peninsula (North and South Korea)\n",
      "5. The Italian Peninsula (Italy)\n",
      "\n",
      "Peninsulas often have strategic importance due to their access to water on multiple sides and are frequently home to important ports and coastal settlements.\n"
     ]
    }
   ],
   "source": [
    "if __name__ == \"__main__\":\n",
    "    bot = ClaudeChatBot()\n",
    "    question = input(\"Enter your question: \")\n",
    "    answer = bot.ask(question)\n",
    "    print(\"Claude:\", answer)"
   ]
  },
  {
   "cell_type": "code",
   "execution_count": null,
   "id": "fd428dac",
   "metadata": {},
   "outputs": [],
   "source": []
  }
 ],
 "metadata": {
  "kernelspec": {
   "display_name": "figma_ui_converter_env",
   "language": "python",
   "name": "python3"
  },
  "language_info": {
   "codemirror_mode": {
    "name": "ipython",
    "version": 3
   },
   "file_extension": ".py",
   "mimetype": "text/x-python",
   "name": "python",
   "nbconvert_exporter": "python",
   "pygments_lexer": "ipython3",
   "version": "3.9.18"
  }
 },
 "nbformat": 4,
 "nbformat_minor": 5
}
